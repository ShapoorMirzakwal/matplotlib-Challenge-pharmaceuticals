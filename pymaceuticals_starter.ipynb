{
 "cells": [
  {
   "cell_type": "markdown",
   "metadata": {},
   "source": [
    "## Observations and Insights "
   ]
  },
  {
   "cell_type": "markdown",
   "metadata": {},
   "source": [
    "Final Analysis\n",
    "Based on the mean and the box plot there were no outliers that siginificantly impacted the data for Capomulin, Ramicane, Infubinol and Cerftiman.\n",
    "\n",
    "For y793 mouse the Capomulin drug reduced the tumor over the course of the study.\n",
    "\n",
    "The correlation coefficient shows a strong relationship between weight and the tumor volume."
   ]
  },
  {
   "cell_type": "code",
   "execution_count": 1,
   "metadata": {},
   "outputs": [],
   "source": [
    "#Dependencies\n",
    "import pandas as pd\n",
    "import numpy as np\n",
    "import matplotlib.pyplot as plt\n",
    "import scipy.stats as st\n",
    "from scipy.stats import linregress"
   ]
  },
  {
   "cell_type": "code",
   "execution_count": 3,
   "metadata": {},
   "outputs": [],
   "source": [
    "#get the path\n",
    "mouse = (\"data/Mouse_metadata.csv\")\n",
    "mouse_df = pd.read_csv(mouse,encoding='utf-8')\n",
    "mouse_df\n",
    "study = (\"data/Study_results.csv\")\n",
    "study_df = pd.read_csv(study,encoding='utf-8')"
   ]
  },
  {
   "cell_type": "code",
   "execution_count": 4,
   "metadata": {},
   "outputs": [],
   "source": [
    "#merge data\n",
    "merge_df = pd.merge(mouse_df,study_df,on='Mouse ID')\n"
   ]
  },
  {
   "cell_type": "code",
   "execution_count": 5,
   "metadata": {},
   "outputs": [
    {
     "data": {
      "text/plain": [
       "248"
      ]
     },
     "execution_count": 5,
     "metadata": {},
     "output_type": "execute_result"
    }
   ],
   "source": [
    " \n",
    "# Prepare the Data\n",
    "#get number of mice ID's\n",
    "len(merge_df['Mouse ID'].unique()) \n",
    "\n",
    "#duplicate timepoints\n",
    "duplicate_mouse_ids = merge_df.loc[merge_df.duplicated(subset=['Mouse ID','Timepoint']),'Mouse ID'].unique()# figure this out\n",
    "duplicate_mouse_ids\n",
    "\n",
    "#get new data frame without the mice ID's with duplicate record \n",
    "for x in duplicate_mouse_ids: \n",
    "    new_df =  merge_df.loc[(merge_df['Mouse ID']!= x),:]\n",
    "new_df\n",
    "\n",
    "# updated number of unique mice ID's\n",
    "len(new_df['Mouse ID'].unique()) \n",
    "\n",
    "#clean_study_data_complete = merge_df[merge_df['Mouse ID'].isin(duplicate_mouse_ids)==False]\n",
    "#clean_study_data_complete.head()\n",
    "#clean_study_data_complete.loc[(clean_study_data_complete['Mouse ID']=='g989'),:]\n",
    "\n",
    "\n",
    "# Getting the duplicate mice by ID number that shows up for Mouse ID and Timepoint. \n",
    "#duplicate_mouse_ids = study_data_complete.loc[study_data_complete.duplicated(subset=['Mouse ID', 'Timepoint']),'Mouse ID'].unique()\n",
    "#duplicate_mouse_ids"
   ]
  },
  {
   "cell_type": "code",
   "execution_count": 6,
   "metadata": {},
   "outputs": [
    {
     "data": {
      "text/html": [
       "<div>\n",
       "<style scoped>\n",
       "    .dataframe tbody tr th:only-of-type {\n",
       "        vertical-align: middle;\n",
       "    }\n",
       "\n",
       "    .dataframe tbody tr th {\n",
       "        vertical-align: top;\n",
       "    }\n",
       "\n",
       "    .dataframe thead th {\n",
       "        text-align: right;\n",
       "    }\n",
       "</style>\n",
       "<table border=\"1\" class=\"dataframe\">\n",
       "  <thead>\n",
       "    <tr style=\"text-align: right;\">\n",
       "      <th></th>\n",
       "      <th>mean tumor volume</th>\n",
       "      <th>median tumor volume</th>\n",
       "      <th>variance tumor volume</th>\n",
       "      <th>standard deviation tumor volume</th>\n",
       "      <th>SEM tumor volume</th>\n",
       "    </tr>\n",
       "    <tr>\n",
       "      <th>Drug Regimen</th>\n",
       "      <th></th>\n",
       "      <th></th>\n",
       "      <th></th>\n",
       "      <th></th>\n",
       "      <th></th>\n",
       "    </tr>\n",
       "  </thead>\n",
       "  <tbody>\n",
       "    <tr>\n",
       "      <th>Capomulin</th>\n",
       "      <td>40.675741</td>\n",
       "      <td>41.557809</td>\n",
       "      <td>24.947764</td>\n",
       "      <td>4.994774</td>\n",
       "      <td>0.329346</td>\n",
       "    </tr>\n",
       "    <tr>\n",
       "      <th>Ceftamin</th>\n",
       "      <td>52.591172</td>\n",
       "      <td>51.776157</td>\n",
       "      <td>39.290177</td>\n",
       "      <td>6.268188</td>\n",
       "      <td>0.469821</td>\n",
       "    </tr>\n",
       "    <tr>\n",
       "      <th>Infubinol</th>\n",
       "      <td>52.884795</td>\n",
       "      <td>51.820584</td>\n",
       "      <td>43.128684</td>\n",
       "      <td>6.567243</td>\n",
       "      <td>0.492236</td>\n",
       "    </tr>\n",
       "    <tr>\n",
       "      <th>Ketapril</th>\n",
       "      <td>55.235638</td>\n",
       "      <td>53.698743</td>\n",
       "      <td>68.553577</td>\n",
       "      <td>8.279709</td>\n",
       "      <td>0.603860</td>\n",
       "    </tr>\n",
       "    <tr>\n",
       "      <th>Naftisol</th>\n",
       "      <td>54.331565</td>\n",
       "      <td>52.509285</td>\n",
       "      <td>66.173479</td>\n",
       "      <td>8.134708</td>\n",
       "      <td>0.596466</td>\n",
       "    </tr>\n",
       "    <tr>\n",
       "      <th>Placebo</th>\n",
       "      <td>54.033581</td>\n",
       "      <td>52.288934</td>\n",
       "      <td>61.168083</td>\n",
       "      <td>7.821003</td>\n",
       "      <td>0.581331</td>\n",
       "    </tr>\n",
       "    <tr>\n",
       "      <th>Propriva</th>\n",
       "      <td>52.320930</td>\n",
       "      <td>50.446266</td>\n",
       "      <td>43.852013</td>\n",
       "      <td>6.622085</td>\n",
       "      <td>0.544332</td>\n",
       "    </tr>\n",
       "    <tr>\n",
       "      <th>Ramicane</th>\n",
       "      <td>40.216745</td>\n",
       "      <td>40.673236</td>\n",
       "      <td>23.486704</td>\n",
       "      <td>4.846308</td>\n",
       "      <td>0.320955</td>\n",
       "    </tr>\n",
       "    <tr>\n",
       "      <th>Stelasyn</th>\n",
       "      <td>54.233149</td>\n",
       "      <td>52.431737</td>\n",
       "      <td>59.450562</td>\n",
       "      <td>7.710419</td>\n",
       "      <td>0.573111</td>\n",
       "    </tr>\n",
       "    <tr>\n",
       "      <th>Zoniferol</th>\n",
       "      <td>53.236507</td>\n",
       "      <td>51.818479</td>\n",
       "      <td>48.533355</td>\n",
       "      <td>6.966589</td>\n",
       "      <td>0.516398</td>\n",
       "    </tr>\n",
       "  </tbody>\n",
       "</table>\n",
       "</div>"
      ],
      "text/plain": [
       "              mean tumor volume  median tumor volume  variance tumor volume  \\\n",
       "Drug Regimen                                                                  \n",
       "Capomulin             40.675741            41.557809              24.947764   \n",
       "Ceftamin              52.591172            51.776157              39.290177   \n",
       "Infubinol             52.884795            51.820584              43.128684   \n",
       "Ketapril              55.235638            53.698743              68.553577   \n",
       "Naftisol              54.331565            52.509285              66.173479   \n",
       "Placebo               54.033581            52.288934              61.168083   \n",
       "Propriva              52.320930            50.446266              43.852013   \n",
       "Ramicane              40.216745            40.673236              23.486704   \n",
       "Stelasyn              54.233149            52.431737              59.450562   \n",
       "Zoniferol             53.236507            51.818479              48.533355   \n",
       "\n",
       "              standard deviation tumor volume  SEM tumor volume  \n",
       "Drug Regimen                                                     \n",
       "Capomulin                            4.994774          0.329346  \n",
       "Ceftamin                             6.268188          0.469821  \n",
       "Infubinol                            6.567243          0.492236  \n",
       "Ketapril                             8.279709          0.603860  \n",
       "Naftisol                             8.134708          0.596466  \n",
       "Placebo                              7.821003          0.581331  \n",
       "Propriva                             6.622085          0.544332  \n",
       "Ramicane                             4.846308          0.320955  \n",
       "Stelasyn                             7.710419          0.573111  \n",
       "Zoniferol                            6.966589          0.516398  "
      ]
     },
     "execution_count": 6,
     "metadata": {},
     "output_type": "execute_result"
    }
   ],
   "source": [
    "#Generate Summary Statistics\n",
    "#groupby for tumor volume\n",
    "new_df\n",
    "#mean\n",
    "new_group_df = new_df.groupby([new_df[\"Drug Regimen\"]])\n",
    "new_mean_df = new_group_df['Tumor Volume (mm3)'].mean()\n",
    "new_mean_df\n",
    "\n",
    "#median\n",
    "new_group_df = new_df.groupby([new_df[\"Drug Regimen\"]])\n",
    "new_median_df = new_group_df['Tumor Volume (mm3)'].median()\n",
    "new_median_df\n",
    "\n",
    "\n",
    "#variance\n",
    "new_group_df = new_df.groupby([new_df[\"Drug Regimen\"]])\n",
    "new_variance_df = new_group_df['Tumor Volume (mm3)'].var()\n",
    "new_variance_df\n",
    "\n",
    "\n",
    "\n",
    "#standard deviation\n",
    "new_group_df = new_df.groupby([new_df[\"Drug Regimen\"]])\n",
    "new_standard_df = new_group_df['Tumor Volume (mm3)'].std()\n",
    "new_standard_df\n",
    "\n",
    "\n",
    "#SEM\n",
    "new_group_df = new_df.groupby([new_df[\"Drug Regimen\"]])\n",
    "new_sem_df = new_group_df['Tumor Volume (mm3)'].sem()\n",
    "new_sem_df\n",
    "\n",
    "statistics_df = pd.DataFrame({\"mean tumor volume\":new_mean_df,\"median tumor volume\":new_median_df,\"variance tumor volume\":new_variance_df,\n",
    "                             \"standard deviation tumor volume\":new_standard_df,\"SEM tumor volume\":new_sem_df})\n",
    "statistics_df"
   ]
  },
  {
   "cell_type": "code",
   "execution_count": 7,
   "metadata": {},
   "outputs": [
    {
     "data": {
      "text/html": [
       "<div>\n",
       "<style scoped>\n",
       "    .dataframe tbody tr th:only-of-type {\n",
       "        vertical-align: middle;\n",
       "    }\n",
       "\n",
       "    .dataframe tbody tr th {\n",
       "        vertical-align: top;\n",
       "    }\n",
       "\n",
       "    .dataframe thead th {\n",
       "        text-align: right;\n",
       "    }\n",
       "</style>\n",
       "<table border=\"1\" class=\"dataframe\">\n",
       "  <thead>\n",
       "    <tr style=\"text-align: right;\">\n",
       "      <th></th>\n",
       "      <th>mean</th>\n",
       "      <th>median</th>\n",
       "      <th>var</th>\n",
       "      <th>std</th>\n",
       "      <th>sem</th>\n",
       "    </tr>\n",
       "    <tr>\n",
       "      <th>Drug Regimen</th>\n",
       "      <th></th>\n",
       "      <th></th>\n",
       "      <th></th>\n",
       "      <th></th>\n",
       "      <th></th>\n",
       "    </tr>\n",
       "  </thead>\n",
       "  <tbody>\n",
       "    <tr>\n",
       "      <th>Capomulin</th>\n",
       "      <td>40.675741</td>\n",
       "      <td>41.557809</td>\n",
       "      <td>24.947764</td>\n",
       "      <td>4.994774</td>\n",
       "      <td>0.329346</td>\n",
       "    </tr>\n",
       "    <tr>\n",
       "      <th>Ceftamin</th>\n",
       "      <td>52.591172</td>\n",
       "      <td>51.776157</td>\n",
       "      <td>39.290177</td>\n",
       "      <td>6.268188</td>\n",
       "      <td>0.469821</td>\n",
       "    </tr>\n",
       "    <tr>\n",
       "      <th>Infubinol</th>\n",
       "      <td>52.884795</td>\n",
       "      <td>51.820584</td>\n",
       "      <td>43.128684</td>\n",
       "      <td>6.567243</td>\n",
       "      <td>0.492236</td>\n",
       "    </tr>\n",
       "    <tr>\n",
       "      <th>Ketapril</th>\n",
       "      <td>55.235638</td>\n",
       "      <td>53.698743</td>\n",
       "      <td>68.553577</td>\n",
       "      <td>8.279709</td>\n",
       "      <td>0.603860</td>\n",
       "    </tr>\n",
       "    <tr>\n",
       "      <th>Naftisol</th>\n",
       "      <td>54.331565</td>\n",
       "      <td>52.509285</td>\n",
       "      <td>66.173479</td>\n",
       "      <td>8.134708</td>\n",
       "      <td>0.596466</td>\n",
       "    </tr>\n",
       "    <tr>\n",
       "      <th>Placebo</th>\n",
       "      <td>54.033581</td>\n",
       "      <td>52.288934</td>\n",
       "      <td>61.168083</td>\n",
       "      <td>7.821003</td>\n",
       "      <td>0.581331</td>\n",
       "    </tr>\n",
       "    <tr>\n",
       "      <th>Propriva</th>\n",
       "      <td>52.320930</td>\n",
       "      <td>50.446266</td>\n",
       "      <td>43.852013</td>\n",
       "      <td>6.622085</td>\n",
       "      <td>0.544332</td>\n",
       "    </tr>\n",
       "    <tr>\n",
       "      <th>Ramicane</th>\n",
       "      <td>40.216745</td>\n",
       "      <td>40.673236</td>\n",
       "      <td>23.486704</td>\n",
       "      <td>4.846308</td>\n",
       "      <td>0.320955</td>\n",
       "    </tr>\n",
       "    <tr>\n",
       "      <th>Stelasyn</th>\n",
       "      <td>54.233149</td>\n",
       "      <td>52.431737</td>\n",
       "      <td>59.450562</td>\n",
       "      <td>7.710419</td>\n",
       "      <td>0.573111</td>\n",
       "    </tr>\n",
       "    <tr>\n",
       "      <th>Zoniferol</th>\n",
       "      <td>53.236507</td>\n",
       "      <td>51.818479</td>\n",
       "      <td>48.533355</td>\n",
       "      <td>6.966589</td>\n",
       "      <td>0.516398</td>\n",
       "    </tr>\n",
       "  </tbody>\n",
       "</table>\n",
       "</div>"
      ],
      "text/plain": [
       "                   mean     median        var       std       sem\n",
       "Drug Regimen                                                     \n",
       "Capomulin     40.675741  41.557809  24.947764  4.994774  0.329346\n",
       "Ceftamin      52.591172  51.776157  39.290177  6.268188  0.469821\n",
       "Infubinol     52.884795  51.820584  43.128684  6.567243  0.492236\n",
       "Ketapril      55.235638  53.698743  68.553577  8.279709  0.603860\n",
       "Naftisol      54.331565  52.509285  66.173479  8.134708  0.596466\n",
       "Placebo       54.033581  52.288934  61.168083  7.821003  0.581331\n",
       "Propriva      52.320930  50.446266  43.852013  6.622085  0.544332\n",
       "Ramicane      40.216745  40.673236  23.486704  4.846308  0.320955\n",
       "Stelasyn      54.233149  52.431737  59.450562  7.710419  0.573111\n",
       "Zoniferol     53.236507  51.818479  48.533355  6.966589  0.516398"
      ]
     },
     "execution_count": 7,
     "metadata": {},
     "output_type": "execute_result"
    }
   ],
   "source": [
    "#Agg method for tumor volume\n",
    "new1_df = new_df.groupby(['Drug Regimen'])\n",
    "statistics1_df = new1_df['Tumor Volume (mm3)'].agg(['mean','median','var','std','sem'])\n",
    "statistics1_df"
   ]
  },
  {
   "cell_type": "code",
   "execution_count": 8,
   "metadata": {},
   "outputs": [
    {
     "data": {
      "image/png": "[encoded data removed]",
      "text/plain": [
       "<Figure size 576x432 with 1 Axes>"
      ]
     },
     "metadata": {
      "needs_background": "light"
     },
     "output_type": "display_data"
    }
   ],
   "source": [
    "#Create Bar Charts \n",
    "#matplotlib\n",
    "new_df\n",
    "\n",
    "new_points_df = new_df.groupby(['Drug Regimen'])\n",
    "new_time_df = new_points_df.count()\n",
    "new_time_df\n",
    "\n",
    "x_axis = np.arange(len(new_df['Drug Regimen'].unique()))\n",
    "y_axis = new_time_df['Timepoint']\n",
    "\n",
    "plt.figure(figsize=(8,6))\n",
    "\n",
    "plt.bar(x_axis,y_axis,color='b',align='center',alpha=.25)\n",
    "tick_locations = [value for value in x_axis]\n",
    "plt.xticks(tick_locations,new_df['Drug Regimen'].unique(),rotation='vertical')\n",
    "\n",
    "plt.title('Drug Regimen Total Timepoints')\n",
    "plt.xlabel('Drug Regimen')\n",
    "plt.ylabel('Timepoints')\n",
    "plt.show()"
   ]
  },
  {
   "cell_type": "code",
   "execution_count": 9,
   "metadata": {},
   "outputs": [
    {
     "data": {
      "image/png": "[encoded data removed]",
      "text/plain": [
       "<Figure size 576x432 with 1 Axes>"
      ]
     },
     "metadata": {
      "needs_background": "light"
     },
     "output_type": "display_data"
    }
   ],
   "source": [
    "#pandas\n",
    "Chart_2 =new_time_df[\"Timepoint\"]\n",
    "\n",
    "bar_chart = Chart_2.plot(kind='bar',figsize=(8,6))"
   ]
  },
  {
   "cell_type": "code",
   "execution_count": 10,
   "metadata": {},
   "outputs": [
    {
     "data": {
      "text/plain": [
       "Text(0.5, 1.0, 'Mouse Gender')"
      ]
     },
     "execution_count": 10,
     "metadata": {},
     "output_type": "execute_result"
    },
    {
     "data": {
      "image/png": "[encoded data removed]",
      "text/plain": [
       "<Figure size 576x576 with 1 Axes>"
      ]
     },
     "metadata": {},
     "output_type": "display_data"
    }
   ],
   "source": [
    "#Pie Charts\n",
    "#matplotlib\n",
    "male_1 = new_df.loc[(new_df[\"Sex\"]=='Male'),:]\n",
    "male_2 = len(male_1[\"Mouse ID\"].unique())\n",
    "male_2\n",
    "\n",
    "female_1 = new_df.loc[(new_df[\"Sex\"]=='Female'),:]\n",
    "female_2 = len(female_1[\"Mouse ID\"].unique())\n",
    "female_2\n",
    "total_2 = ({\"Male\":male_2,\"Female\": female_2})\n",
    "total_3 = pd.Series(total_2)\n",
    "total_3\n",
    "plt.figure(figsize=(8,8))\n",
    "y3_axis = total_3\n",
    "y3_axis\n",
    "\n",
    "labels = total_3.keys()\n",
    "labels\n",
    "explode=(.1,0,)\n",
    "\n",
    "plt.pie(y3_axis,explode = explode,labels = labels,autopct=\"%1.1f%%\",shadow=True,startangle=45)\n",
    "plt.title(\"Mouse Gender\")\n"
   ]
  },
  {
   "cell_type": "code",
   "execution_count": 11,
   "metadata": {},
   "outputs": [
    {
     "data": {
      "text/plain": [
       "<matplotlib.legend.Legend at 0x1647e2efcd0>"
      ]
     },
     "execution_count": 11,
     "metadata": {},
     "output_type": "execute_result"
    },
    {
     "data": {
      "image/png": "[encoded data removed]",
      "text/plain": [
       "<Figure size 432x720 with 1 Axes>"
      ]
     },
     "metadata": {},
     "output_type": "display_data"
    }
   ],
   "source": [
    "#pandas\n",
    "\n",
    "total_3.plot(kind='pie',explode =(.1,0),y='total_3',autopct=\"%1.1f%%\",title = 'Mouse Gender',figsize=(6,10),label=\"\").legend(bbox_to_anchor=(1.5,1))\n"
   ]
  },
  {
   "cell_type": "code",
   "execution_count": 12,
   "metadata": {},
   "outputs": [
    {
     "name": "stdout",
     "output_type": "stream",
     "text": [
      "Values below 37.19 could be outliers.\n",
      "Values below 59.93 could be outliers.\n"
     ]
    }
   ],
   "source": [
    "#Calculate Quartiles, Find Outliers and Create a Box Plot\n",
    "#calculate final tumor\n",
    "new_df\n",
    "\n",
    "#get the latest timepoint for each mouse\n",
    "top_four_df = new_df.groupby(['Mouse ID'])\n",
    "tfd = top_four_df[\"Timepoint\"].max()\n",
    "tf =tfd.reset_index()\n",
    "tf\n",
    "\n",
    "#merge latest timepont with cleaned data\n",
    "cleaned_merge = pd.merge(new_df,tf,how='inner',on=[\"Mouse ID\",'Timepoint'])\n",
    "cleaned_merge\n",
    "\n",
    "drug_four = cleaned_merge.loc[(cleaned_merge[\"Drug Regimen\"]=='Capomulin')|(cleaned_merge[\"Drug Regimen\"]=='Ramicane')|\n",
    "                            (cleaned_merge[\"Drug Regimen\"]=='Infubinol')|(cleaned_merge[\"Drug Regimen\"]=='Ceftamin'),:]\n",
    "\n",
    "#put the four drugs in a list\n",
    "drug_5 = list(drug_four[\"Drug Regimen\"].unique())\n",
    "drug_5\n",
    "\n",
    "\n",
    "volume_1 =[]\n",
    "for dr in drug_5:\n",
    " \n",
    "    volume_1.append(drug_four.loc[drug_four[\"Drug Regimen\"] == dr,\"Tumor Volume (mm3)\"])\n",
    "\n",
    "volume_1\n",
    "\n",
    "\n",
    "\n",
    "#get lower and upper quantiles from the volume_1 list and see what the outliers could be\n",
    "quartiles_lower = np.quantile(volume_1,.25)\n",
    "quartiles_upper = np.quantile(volume_1,.75)\n",
    "quartiles_lower\n",
    "quartiles_upper\n",
    "\n",
    "print(f'Values below {round(quartiles_lower,2)} could be outliers.')\n",
    "print(f'Values below {round(quartiles_upper,2)} could be outliers.')\n"
   ]
  },
  {
   "cell_type": "code",
   "execution_count": 13,
   "metadata": {},
   "outputs": [
    {
     "data": {
      "image/png": "[encoded data removed]",
      "text/plain": [
       "<Figure size 432x288 with 1 Axes>"
      ]
     },
     "metadata": {
      "needs_background": "light"
     },
     "output_type": "display_data"
    }
   ],
   "source": [
    "#Matplotlib\n",
    "#box plot for the four final tumors\n",
    "fig1,ax1 = plt.subplots()\n",
    "color_scale = dict(marker = 'o',markerfacecolor ='r',markersize =12,\n",
    "                  markeredgecolor='r')\n",
    "ax1.boxplot(volume_1,flierprops=color_scale)\n",
    "plt.show()\n"
   ]
  },
  {
   "cell_type": "code",
   "execution_count": 14,
   "metadata": {},
   "outputs": [
    {
     "data": {
      "image/png": "[encoded data removed]",
      "text/plain": [
       "<Figure size 432x288 with 1 Axes>"
      ]
     },
     "metadata": {
      "needs_background": "light"
     },
     "output_type": "display_data"
    }
   ],
   "source": [
    "# Line Plot \n",
    "#select mice y793\n",
    "mouse_y = new_df.loc[new_df['Mouse ID']=='y793',:]\n",
    "mouse_y\n",
    "\n",
    "my = mouse_y[\"Tumor Volume (mm3)\"]\n",
    "mx = np.arange(len(mouse_y[\"Timepoint\"]))\n",
    "\n",
    "plt.plot(mx,my)\n",
    "tick_locations1 = [w for w in mx]\n",
    "plt.xticks(tick_locations1,mouse_y[\"Timepoint\"])\n",
    "plt.title(\"y793 Tumor Analysis\")\n",
    "plt.xlabel(\"Timepoint\")\n",
    "plt.ylabel(\"Tumor Volume\")\n",
    "plt.show()"
   ]
  },
  {
   "cell_type": "code",
   "execution_count": 15,
   "metadata": {},
   "outputs": [
    {
     "data": {
      "image/png": "[encoded data removed]",
      "text/plain": [
       "<Figure size 432x288 with 1 Axes>"
      ]
     },
     "metadata": {
      "needs_background": "light"
     },
     "output_type": "display_data"
    }
   ],
   "source": [
    "#Scatter plot\n",
    "#scattor plot for the Capomulin treatment\n",
    "capo_df = new_df.loc[(new_df['Drug Regimen']=='Capomulin'),:]\n",
    "capo_df\n",
    "\n",
    "capo_x1 = capo_df['Weight (g)']\n",
    "capo_x1\n",
    "\n",
    "capo_y = capo_df[\"Tumor Volume (mm3)\"]\n",
    "capo_y\n",
    "(slope,intercept,rvalue,pvalue,stderr)= linregress(capo_x1,capo_y)\n",
    "regress_values = capo_x1*slope + intercept\n",
    "line_eq = 'y = ' + str(round(slope,2)) + 'x + ' + str(round(intercept,2))\n",
    "plt.scatter(capo_x1,capo_y,marker='o',s=capo_y,facecolors='magenta',edgecolors='black')\n",
    "plt.plot(capo_x1,regress_values,'r-')\n",
    "plt.annotate(line_eq,(20,33),fontsize=12,color='blue')\n",
    "plt.title(\"Capomulin Weight\")\n",
    "plt.xlabel(\"Weight\")\n",
    "plt.ylabel(\"Tumor Volume\")\n",
    "plt.show()"
   ]
  },
  {
   "cell_type": "code",
   "execution_count": 16,
   "metadata": {},
   "outputs": [
    {
     "name": "stdout",
     "output_type": "stream",
     "text": [
      "The correlation between both factors is 0.53\n"
     ]
    }
   ],
   "source": [
    "#Calculate Correlation and Regression\n",
    "weight = capo_df.iloc[:,4]\n",
    "tv = capo_df.iloc[:,6]\n",
    "correlation = st.pearsonr(weight,tv)\n",
    "print(f'The correlation between both factors is {round(correlation[0],2)}')"
   ]
  },
  {
   "cell_type": "code",
   "execution_count": null,
   "metadata": {},
   "outputs": [],
   "source": []
  }
 ],
 "metadata": {
  "anaconda-cloud": {},
  "kernelspec": {
   "display_name": "Python 3 (ipykernel)",
   "language": "python",
   "name": "python3"
  },
  "language_info": {
   "codemirror_mode": {
    "name": "ipython",
    "version": 3
   },
   "file_extension": ".py",
   "mimetype": "text/x-python",
   "name": "python",
   "nbconvert_exporter": "python",
   "pygments_lexer": "ipython3",
   "version": "3.9.12"
  }
 },
 "nbformat": 4,
 "nbformat_minor": 4
}
